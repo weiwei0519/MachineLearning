{
 "cells": [
  {
   "cell_type": "code",
   "execution_count": 26,
   "metadata": {},
   "outputs": [],
   "source": [
    "from numpy import *\n",
    "import pandas as pd"
   ]
  },
  {
   "cell_type": "markdown",
   "metadata": {},
   "source": [
    "# Non-negative Matrix Factorizaion"
   ]
  },
  {
   "cell_type": "markdown",
   "metadata": {},
   "source": [
    "## 1. using KL divergence as the cost function"
   ]
  },
  {
   "cell_type": "code",
   "execution_count": 7,
   "metadata": {},
   "outputs": [],
   "source": [
    "def NMF1(dataMat, a, maxCycles, e):\n",
    "    V = mat(dataMat)\n",
    "    n, m = shape(V)\n",
    "\n",
    "    #   initialization\n",
    "    W = mat(random.random((n, a)))\n",
    "    H = mat(random.random((a, m)))\n",
    "\n",
    "    #   multiplicative update rules\n",
    "    loss = []\n",
    "    for step in range(maxCycles):\n",
    "        wh = W * H\n",
    "        for a in range(a):\n",
    "            wa_sum = sum(W[:, a])\n",
    "            for u in range(m):\n",
    "                wv = multiply(W[:, a], V[:, u])\n",
    "                b = multiply(wv, 1 / (wh[:, u]))\n",
    "                H[a, u] *= sum(b) / wa_sum\n",
    "\n",
    "        for i in range(n):\n",
    "            wh1 = 1 / (wh[i, :])\n",
    "            for a in range(a):\n",
    "                c = multiply(H[a, :], V[i, :])\n",
    "                d = multiply(c, wh1)\n",
    "                W[i, a] *= sum(d) / sum(H[a, :])\n",
    "\n",
    "        #  calculate the loss\n",
    "        epsilon = 1e-4\n",
    "        V += epsilon\n",
    "        wh += epsilon\n",
    "        err = sum(multiply(V, log(V / wh)) - V + wh)\n",
    "\n",
    "        loss.append(err)\n",
    "\n",
    "        if err < e:\n",
    "            break\n",
    "\n",
    "    return W, H, loss\n"
   ]
  },
  {
   "cell_type": "code",
   "execution_count": 8,
   "metadata": {},
   "outputs": [],
   "source": [
    "V = mat([\n",
    "    [5, 3, 0, 1],\n",
    "    [4, 4, 6, 1],\n",
    "    [1, 1, 0, 5],\n",
    "    [1, 3, 3, 4],\n",
    "    [0, 1, 5, 4]]).astype(float64)"
   ]
  },
  {
   "cell_type": "code",
   "execution_count": 9,
   "metadata": {
    "scrolled": true
   },
   "outputs": [
    {
     "name": "stdout",
     "output_type": "stream",
     "text": [
      "[[ 4.2286326   5.6134668   5.63265915  6.71528035]\n",
      " [ 3.31443101  2.52722196  3.94551853  3.48713884]\n",
      " [ 1.26117481  2.40809357  1.86387907  2.69896227]\n",
      " [ 1.80378201  2.88413717  2.52542073  3.3289498 ]\n",
      " [ 1.11238588  2.17785957  1.65748683  2.43164244]]\n"
     ]
    }
   ],
   "source": [
    "if __name__=='__main__':\n",
    "    W,H,loss = NMF1(V,2,1000,1e-5)\n",
    "    print(W*H)"
   ]
  },
  {
   "cell_type": "code",
   "execution_count": 10,
   "metadata": {},
   "outputs": [
    {
     "data": {
      "text/plain": [
       "<matplotlib.text.Text at 0x11909a320>"
      ]
     },
     "execution_count": 10,
     "metadata": {},
     "output_type": "execute_result"
    },
    {
     "data": {
      "image/png": "[encoded data removed]",
      "text/plain": [
       "<matplotlib.figure.Figure at 0x107571fd0>"
      ]
     },
     "metadata": {},
     "output_type": "display_data"
    }
   ],
   "source": [
    "import matplotlib.pyplot as plt\n",
    "% matplotlib inline\n",
    "\n",
    "n = len(loss)\n",
    "plt.plot(range(n), loss, color='r', linewidth=3)\n",
    "plt.title('Convergence Curve')\n",
    "plt.xlabel('iteration')\n",
    "plt.ylabel('loss')"
   ]
  },
  {
   "cell_type": "markdown",
   "metadata": {},
   "source": [
    "## 2. using Euclidean distance as the cost function"
   ]
  },
  {
   "cell_type": "code",
   "execution_count": 11,
   "metadata": {},
   "outputs": [],
   "source": [
    "def NMF2(dataMat, a, maxCycles, e):\n",
    "    V = mat(dataMat)\n",
    "    n, m = shape(V)\n",
    "\n",
    "    #   initialization\n",
    "    W = mat(random.random((n, a)))\n",
    "    H = mat(random.random((a, m)))\n",
    "    \n",
    "    mask = (V > 0).astype(int64)\n",
    "    \n",
    "    #   multiplicative update rules \n",
    "    loss = []\n",
    "    \n",
    "    for step in range(maxCycles):\n",
    "        wh = W * H \n",
    "        \n",
    "        # update H\n",
    "        a = W.T * W * H\n",
    "        a[where(a == 0)] = 1e-4\n",
    "        H = multiply(H, W.T * V / a)\n",
    "        \n",
    "        # update W\n",
    "        b = wh * H.T\n",
    "        b[where(b == 0)] = 1e-4\n",
    "        W = multiply(W, V * H.T / b)\n",
    "\n",
    "        #  calculate the loss\n",
    "        err = sum(multiply(V - wh,V - wh))\n",
    "\n",
    "        loss.append(err)\n",
    "\n",
    "        if err < e:\n",
    "            break\n",
    "\n",
    "    return W, H, loss"
   ]
  },
  {
   "cell_type": "code",
   "execution_count": 12,
   "metadata": {
    "scrolled": true
   },
   "outputs": [
    {
     "name": "stdout",
     "output_type": "stream",
     "text": [
      "[[  4.13516123e+00   3.06890081e+00   2.07180716e+00   5.89519538e-42]\n",
      " [  4.82664781e+00   4.33938728e+00   4.29507252e+00   2.42315969e+00]\n",
      " [  3.67407750e-09   1.01646915e+00   2.51910968e+00   3.25242715e+00]\n",
      " [  1.41276854e+00   2.26244472e+00   3.71638252e+00   3.88434995e+00]\n",
      " [  2.57656535e-01   1.70714100e+00   3.88599189e+00   4.85054087e+00]]\n"
     ]
    }
   ],
   "source": [
    "if __name__ == '__main__':\n",
    "    W, H, loss = NMF2(V, 2, 1000, 1e-5)\n",
    "    print(W * H)"
   ]
  },
  {
   "cell_type": "code",
   "execution_count": 14,
   "metadata": {
    "scrolled": true
   },
   "outputs": [
    {
     "data": {
      "text/plain": [
       "<matplotlib.text.Text at 0x120b609e8>"
      ]
     },
     "execution_count": 14,
     "metadata": {},
     "output_type": "execute_result"
    },
    {
     "data": {
      "image/png": "[encoded data removed]",
      "text/plain": [
       "<matplotlib.figure.Figure at 0x119122a90>"
      ]
     },
     "metadata": {},
     "output_type": "display_data"
    }
   ],
   "source": [
    "import matplotlib.pyplot as plt\n",
    "% matplotlib inline\n",
    "\n",
    "n = len(loss)\n",
    "plt.plot(range(n), loss, color='r', linewidth=3)\n",
    "plt.title('Convergence Curve')\n",
    "plt.xlabel('iteration')\n",
    "plt.ylabel('loss')\n"
   ]
  },
  {
   "cell_type": "markdown",
   "metadata": {},
   "source": [
    "# 3. The application of NMF in moive recommendation"
   ]
  },
  {
   "cell_type": "code",
   "execution_count": 27,
   "metadata": {
    "scrolled": true
   },
   "outputs": [
    {
     "data": {
      "text/html": [
       "<div>\n",
       "<style>\n",
       "    .dataframe thead tr:only-child th {\n",
       "        text-align: right;\n",
       "    }\n",
       "\n",
       "    .dataframe thead th {\n",
       "        text-align: left;\n",
       "    }\n",
       "\n",
       "    .dataframe tbody tr th {\n",
       "        vertical-align: top;\n",
       "    }\n",
       "</style>\n",
       "<table border=\"1\" class=\"dataframe\">\n",
       "  <thead>\n",
       "    <tr style=\"text-align: right;\">\n",
       "      <th></th>\n",
       "      <th>userID</th>\n",
       "      <th>moiveID</th>\n",
       "      <th>rating</th>\n",
       "    </tr>\n",
       "  </thead>\n",
       "  <tbody>\n",
       "    <tr>\n",
       "      <th>0</th>\n",
       "      <td>1</td>\n",
       "      <td>1</td>\n",
       "      <td>5</td>\n",
       "    </tr>\n",
       "    <tr>\n",
       "      <th>1</th>\n",
       "      <td>1</td>\n",
       "      <td>2</td>\n",
       "      <td>3</td>\n",
       "    </tr>\n",
       "    <tr>\n",
       "      <th>2</th>\n",
       "      <td>1</td>\n",
       "      <td>3</td>\n",
       "      <td>4</td>\n",
       "    </tr>\n",
       "    <tr>\n",
       "      <th>3</th>\n",
       "      <td>1</td>\n",
       "      <td>4</td>\n",
       "      <td>3</td>\n",
       "    </tr>\n",
       "    <tr>\n",
       "      <th>4</th>\n",
       "      <td>1</td>\n",
       "      <td>5</td>\n",
       "      <td>3</td>\n",
       "    </tr>\n",
       "  </tbody>\n",
       "</table>\n",
       "</div>"
      ],
      "text/plain": [
       "   userID  moiveID  rating\n",
       "0       1        1       5\n",
       "1       1        2       3\n",
       "2       1        3       4\n",
       "3       1        4       3\n",
       "4       1        5       3"
      ]
     },
     "execution_count": 27,
     "metadata": {},
     "output_type": "execute_result"
    }
   ],
   "source": [
    "ratings = pd.read_table('/Users/chenxian/Documents/ML_data/ml-100k/u1.base',header=None)\n",
    "\n",
    "ratings=ratings.iloc[:,0:3]\n",
    "\n",
    "ratings.columns=['userID','moiveID','rating']\n",
    "\n",
    "ratings.head()"
   ]
  },
  {
   "cell_type": "code",
   "execution_count": 42,
   "metadata": {},
   "outputs": [],
   "source": [
    "def user_item_mat(Data):\n",
    "    #   convert data to the user-item matrix\n",
    "    \n",
    "    D = Data\n",
    "    #   initialize user-item matrix\n",
    "    user_item_mat = mat(zeros((943, 1682)))\n",
    "\n",
    "    for i in range(D.shape[0]):\n",
    "        a = D.iloc[i, 0] - 1\n",
    "        b = D.iloc[i, 1] - 1\n",
    "        c = D.iloc[i, 2]\n",
    "        \n",
    "        user_item_mat[a, b] = c\n",
    "\n",
    "    return user_item_mat"
   ]
  },
  {
   "cell_type": "code",
   "execution_count": 29,
   "metadata": {},
   "outputs": [],
   "source": [
    "if __name__ == '__main__':\n",
    "    \n",
    "    # obtain the user-item matrix\n",
    "    user_item_Mat = user_item_mat(ratings)\n",
    "    \n",
    "    W, H, loss = NMF2(user_item_Mat, 100, 1000, 1e-4)\n",
    "    \n",
    "    result = W * H"
   ]
  },
  {
   "cell_type": "code",
   "execution_count": 31,
   "metadata": {},
   "outputs": [
    {
     "data": {
      "text/plain": [
       "<matplotlib.text.Text at 0x1a26e3e978>"
      ]
     },
     "execution_count": 31,
     "metadata": {},
     "output_type": "execute_result"
    },
    {
     "data": {
      "image/png": "[encoded data removed]",
      "text/plain": [
       "<matplotlib.figure.Figure at 0x107549080>"
      ]
     },
     "metadata": {},
     "output_type": "display_data"
    }
   ],
   "source": [
    "import matplotlib.pyplot as plt\n",
    "% matplotlib inline\n",
    "\n",
    "n = len(loss)\n",
    "plt.plot(range(n), loss, color='r', linewidth=3)\n",
    "plt.title('Convergence Curve')\n",
    "plt.xlabel('iteration')\n",
    "plt.ylabel('loss')\n"
   ]
  },
  {
   "cell_type": "markdown",
   "metadata": {},
   "source": [
    "## testing "
   ]
  },
  {
   "cell_type": "code",
   "execution_count": 54,
   "metadata": {},
   "outputs": [
    {
     "data": {
      "text/html": [
       "<div>\n",
       "<style>\n",
       "    .dataframe thead tr:only-child th {\n",
       "        text-align: right;\n",
       "    }\n",
       "\n",
       "    .dataframe thead th {\n",
       "        text-align: left;\n",
       "    }\n",
       "\n",
       "    .dataframe tbody tr th {\n",
       "        vertical-align: top;\n",
       "    }\n",
       "</style>\n",
       "<table border=\"1\" class=\"dataframe\">\n",
       "  <thead>\n",
       "    <tr style=\"text-align: right;\">\n",
       "      <th></th>\n",
       "      <th>userID</th>\n",
       "      <th>moiveID</th>\n",
       "      <th>rating</th>\n",
       "    </tr>\n",
       "  </thead>\n",
       "  <tbody>\n",
       "    <tr>\n",
       "      <th>0</th>\n",
       "      <td>1</td>\n",
       "      <td>6</td>\n",
       "      <td>5</td>\n",
       "    </tr>\n",
       "    <tr>\n",
       "      <th>1</th>\n",
       "      <td>1</td>\n",
       "      <td>10</td>\n",
       "      <td>3</td>\n",
       "    </tr>\n",
       "    <tr>\n",
       "      <th>2</th>\n",
       "      <td>1</td>\n",
       "      <td>12</td>\n",
       "      <td>5</td>\n",
       "    </tr>\n",
       "    <tr>\n",
       "      <th>3</th>\n",
       "      <td>1</td>\n",
       "      <td>14</td>\n",
       "      <td>5</td>\n",
       "    </tr>\n",
       "    <tr>\n",
       "      <th>4</th>\n",
       "      <td>1</td>\n",
       "      <td>17</td>\n",
       "      <td>3</td>\n",
       "    </tr>\n",
       "  </tbody>\n",
       "</table>\n",
       "</div>"
      ],
      "text/plain": [
       "   userID  moiveID  rating\n",
       "0       1        6       5\n",
       "1       1       10       3\n",
       "2       1       12       5\n",
       "3       1       14       5\n",
       "4       1       17       3"
      ]
     },
     "execution_count": 54,
     "metadata": {},
     "output_type": "execute_result"
    }
   ],
   "source": [
    "\n",
    "ratings_test = pd.read_table('/Users/chenxian/Documents/ML_data/ml-100k/u1.test',header=None)\n",
    "\n",
    "ratings_test=ratings_test.iloc[:,0:3]\n",
    "\n",
    "ratings_test.columns=['userID','moiveID','rating']\n",
    "\n",
    "ratings_test.head()"
   ]
  },
  {
   "cell_type": "code",
   "execution_count": 46,
   "metadata": {
    "scrolled": true
   },
   "outputs": [],
   "source": [
    "uimat_test=user_item_mat(ratings_test)"
   ]
  },
  {
   "cell_type": "code",
   "execution_count": 58,
   "metadata": {},
   "outputs": [
    {
     "data": {
      "text/plain": [
       "1870071.5475036236"
      ]
     },
     "execution_count": 58,
     "metadata": {},
     "output_type": "execute_result"
    }
   ],
   "source": [
    "mse=result[uimat_test>0]-uimat_test[uimat_test>0]\n",
    "mse=sum(multiply(a,a))\n",
    "mse=mse/ratings_test.shape[0]\n",
    "mse"
   ]
  },
  {
   "cell_type": "markdown",
   "metadata": {},
   "source": [
    "# 4. The application of NMF in the term-document matrix "
   ]
  },
  {
   "cell_type": "code",
   "execution_count": 15,
   "metadata": {},
   "outputs": [],
   "source": [
    "from sklearn.datasets import fetch_20newsgroups\n",
    "from sklearn.feature_extraction.text import TfidfVectorizer\n",
    "from sklearn.decomposition import NMF\n",
    "data = fetch_20newsgroups(remove = ('headers','footers','quotes')).data"
   ]
  },
  {
   "cell_type": "code",
   "execution_count": 16,
   "metadata": {},
   "outputs": [],
   "source": [
    "# convert the text to a tf-idf weighted term-document matrix\n",
    "vectorizer = TfidfVectorizer(max_features=2000, min_df=10, stop_words='english')\n",
    "\n",
    "X = vectorizer.fit_transform(data)\n"
   ]
  },
  {
   "cell_type": "code",
   "execution_count": 17,
   "metadata": {
    "scrolled": true
   },
   "outputs": [],
   "source": [
    "idx_to_word = array(vectorizer.get_feature_names())"
   ]
  },
  {
   "cell_type": "code",
   "execution_count": 18,
   "metadata": {},
   "outputs": [],
   "source": [
    "#apply NMF\n",
    "nmf = NMF(n_components = 20,solver = 'mu')"
   ]
  },
  {
   "cell_type": "code",
   "execution_count": 19,
   "metadata": {},
   "outputs": [],
   "source": [
    "W = nmf.fit_transform(X)"
   ]
  },
  {
   "cell_type": "code",
   "execution_count": 20,
   "metadata": {},
   "outputs": [],
   "source": [
    "H = nmf.components_"
   ]
  },
  {
   "cell_type": "code",
   "execution_count": 21,
   "metadata": {
    "scrolled": true
   },
   "outputs": [
    {
     "data": {
      "text/plain": [
       "(11314, 20)"
      ]
     },
     "execution_count": 21,
     "metadata": {},
     "output_type": "execute_result"
    }
   ],
   "source": [
    "#weight\n",
    "W.shape"
   ]
  },
  {
   "cell_type": "code",
   "execution_count": 22,
   "metadata": {},
   "outputs": [
    {
     "data": {
      "text/plain": [
       "(20, 2000)"
      ]
     },
     "execution_count": 22,
     "metadata": {},
     "output_type": "execute_result"
    }
   ],
   "source": [
    "#components\n",
    "H.shape"
   ]
  },
  {
   "cell_type": "code",
   "execution_count": 23,
   "metadata": {
    "scrolled": true
   },
   "outputs": [
    {
     "data": {
      "text/plain": [
       "(11314, 2000)"
      ]
     },
     "execution_count": 23,
     "metadata": {},
     "output_type": "execute_result"
    }
   ],
   "source": [
    "X.shape"
   ]
  },
  {
   "cell_type": "code",
   "execution_count": 24,
   "metadata": {},
   "outputs": [
    {
     "name": "stdout",
     "output_type": "stream",
     "text": [
      "Topic1:want,really,say,right,did,good,time,know,don,people\n",
      "Topic2:information,appreciated,email,help,info,looking,hi,advance,mail,thanks\n",
      "Topic3:lord,church,christians,christian,believe,faith,christ,bible,jesus,god\n",
      "Topic4:algorithm,public,escrow,use,government,keys,clipper,encryption,chip,key\n",
      "Topic5:mac,cd,floppy,controller,ide,hard,disk,drives,scsi,drive\n",
      "Topic6:15,20,price,condition,offer,shipping,10,new,sale,00\n",
      "Topic7:use,memory,run,image,screen,running,server,problem,using,program\n",
      "Topic8:teams,win,hockey,play,players,season,year,games,team,game\n",
      "Topic9:ftp,article,cc,university,cs,soon,banks,gordon,pitt,edu\n",
      "Topic10:oil,new,speed,dealer,miles,good,engine,cars,bike,car\n",
      "Topic11:ram,color,driver,bus,vga,drivers,cards,monitor,video,card\n",
      "Topic12:exactly,appreciated,doesn,program,work,help,mean,anybody,know,does\n",
      "Topic13:tell,heard,wanted,oh,thought,ll,wondering,got,ve,just\n",
      "Topic14:files,version,driver,os,nt,microsoft,drivers,ms,dos,windows\n",
      "Topic15:convert,disk,pub,gif,format,zip,directory,ftp,files,file\n",
      "Topic16:sell,new,make,look,lot,sound,use,looks,sounds,like\n",
      "Topic17:address,hp,phone,email,bob,internet,article,dave,list,com\n",
      "Topic18:don,xterm,widget,want,display,motif,application,manager,use,window\n",
      "Topic19:lot,makes,wrong,does,science,nasa,just,use,space,think\n",
      "Topic20:state,land,war,peace,arabs,jewish,arab,jews,israeli,israel\n"
     ]
    }
   ],
   "source": [
    "for i, topic in enumerate(H, 1):\n",
    "    print('Topic{}:{}'.format(i,','.join([str(x) for x in idx_to_word[topic.argsort()[-10:]]])))"
   ]
  }
 ],
 "metadata": {
  "kernelspec": {
   "display_name": "Python 3",
   "language": "python",
   "name": "python3"
  },
  "language_info": {
   "codemirror_mode": {
    "name": "ipython",
    "version": 3
   },
   "file_extension": ".py",
   "mimetype": "text/x-python",
   "name": "python",
   "nbconvert_exporter": "python",
   "pygments_lexer": "ipython3",
   "version": "3.5.1"
  }
 },
 "nbformat": 4,
 "nbformat_minor": 2
}
